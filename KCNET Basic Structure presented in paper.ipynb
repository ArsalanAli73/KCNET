{
 "cells": [
  {
   "cell_type": "code",
   "execution_count": 233,
   "id": "18a0be2a-4539-4e4c-b85c-d498a7276864",
   "metadata": {},
   "outputs": [],
   "source": [
    "import torch\n",
    "import torch.nn as nn\n",
    "import torch.optim as optim\n",
    "import numpy as np\n",
    "from sklearn.metrics import accuracy_score"
   ]
  },
  {
   "cell_type": "markdown",
   "id": "a2a0806b-f8f2-4ded-8e7e-7c33f5fdb299",
   "metadata": {},
   "source": [
    "Random Sparse Projections"
   ]
  },
  {
   "cell_type": "code",
   "execution_count": 235,
   "id": "6f16f98b-f9bc-42f6-a6b0-88e937889e1f",
   "metadata": {},
   "outputs": [],
   "source": [
    "def generate_sparse_projection(input_dim, hidden_dim, connections_per_hidden):\n",
    "    \"\"\"\n",
    "    Generates a sparse binary projection matrix.\n",
    "    \n",
    "    Args:\n",
    "        input_dim (int): Number of input features.\n",
    "        hidden_dim (int): Number of hidden neurons (KC nodes).\n",
    "        connections_per_hidden (int): Non-zero connections per hidden node.\n",
    "    \n",
    "    Returns:\n",
    "        torch.Tensor: Sparse binary weight matrix of shape (hidden_dim, input_dim).\n",
    "    \"\"\"\n",
    "    projection = np.zeros((hidden_dim, input_dim))\n",
    "    for i in range(hidden_dim):\n",
    "        selected_indices = np.random.choice(input_dim, connections_per_hidden, replace=False)\n",
    "        projection[i, selected_indices] = 1\n",
    "    return torch.tensor(projection, dtype=torch.float32)"
   ]
  },
  {
   "cell_type": "markdown",
   "id": "2f096d7e-59fc-4264-846b-857f429939d4",
   "metadata": {},
   "source": [
    "Global Inhibition Function"
   ]
  },
  {
   "cell_type": "code",
   "execution_count": 237,
   "id": "4aad4374-94fb-4d5d-b622-cee5ddb74960",
   "metadata": {},
   "outputs": [],
   "source": [
    "def global_inhibition(hidden_activations):\n",
    "    \"\"\"\n",
    "    Applies global inhibition to enforce sparsity in activations.\n",
    "    \n",
    "    Args:\n",
    "        hidden_activations (torch.Tensor): Hidden layer activations.\n",
    "    \n",
    "    Returns:\n",
    "        torch.Tensor: Inhibited activations.\n",
    "    \"\"\"\n",
    "    inhibtion_factor=1 \n",
    "    mean_activation = hidden_activations.mean(dim=1, keepdim=True)\n",
    "    inhibited_activations = hidden_activations - inhibtion_factor*mean_activation\n",
    "    return inhibited_activations.clamp(min=0)  # ReLU equivalent"
   ]
  },
  {
   "cell_type": "markdown",
   "id": "f2ade006-7aaa-44b5-b00d-24c80fd9ad2f",
   "metadata": {},
   "source": [
    "Forward Pass"
   ]
  },
  {
   "cell_type": "code",
   "execution_count": 239,
   "id": "444156ba-6eb1-4354-b43a-de4197af8b96",
   "metadata": {},
   "outputs": [],
   "source": [
    "def forward_pass(x, projection_matrix, output_weights):\n",
    "    \"\"\"\n",
    "    Performs a forward pass through the KCNet.\n",
    "    \n",
    "    Args:\n",
    "        x (torch.Tensor): Input data of shape (batch_size, input_dim).\n",
    "        projection_matrix (torch.Tensor): Sparse binary projection matrix.\n",
    "        output_weights (torch.Tensor): Weights from hidden layer to output layer.\n",
    "    \n",
    "    Returns:\n",
    "        torch.Tensor: Predicted output of shape (batch_size, num_classes).\n",
    "    \"\"\"\n",
    "    # Step 1: Random projection\n",
    "    hidden_pre_activation = x @ projection_matrix.T\n",
    "    \n",
    "    # Step 2: Global inhibition\n",
    "    hidden_activations = global_inhibition(hidden_pre_activation)\n",
    "    \n",
    "    # Step 3: Linear output layer\n",
    "    output = hidden_activations @ output_weights\n",
    "    return output\n"
   ]
  },
  {
   "cell_type": "markdown",
   "id": "af277cb0-6c7f-4cb9-a591-7f37f3eccf28",
   "metadata": {},
   "source": [
    "Ridge Regression for Output Weights"
   ]
  },
  {
   "cell_type": "code",
   "execution_count": 241,
   "id": "dd65efd9-606b-4b58-be09-e2d927a8ebea",
   "metadata": {},
   "outputs": [],
   "source": [
    "def ridge_regression(hidden_layer_outputs, targets, lambda_reg=0.01):\n",
    "    \"\"\"\n",
    "    Solves for output weights using ridge regression.\n",
    "    \n",
    "    Args:\n",
    "        hidden_layer_outputs (torch.Tensor): Hidden layer activations (H).\n",
    "        targets (torch.Tensor): Target outputs (Y).\n",
    "        lambda_reg (float): Regularization term.\n",
    "    \n",
    "    Returns:\n",
    "        torch.Tensor: Optimized output weights (Beta).\n",
    "    \"\"\"\n",
    "    H_T = hidden_layer_outputs.T  # Shape (2000, 100)\n",
    "    regularization = lambda_reg * torch.eye(H_T.shape[0])  # Matches hidden nodes (2000, 2000)\n",
    "    # Ridge regression\n",
    "    beta = torch.inverse(H_T @ hidden_layer_outputs + regularization) @ H_T @ targets\n",
    "    return beta"
   ]
  },
  {
   "cell_type": "markdown",
   "id": "4204fcd4-ca0e-4302-bafd-43e3ad2eb0a7",
   "metadata": {},
   "source": [
    "KCNET Class For Summarizing Whole Functionals"
   ]
  },
  {
   "cell_type": "code",
   "execution_count": 243,
   "id": "fca563a3-c779-46a4-b90e-4019948e6c5e",
   "metadata": {},
   "outputs": [],
   "source": [
    "class KCNet(nn.Module):\n",
    "    def __init__(self, input_dim, hidden_dim, output_dim, connections_per_hidden):\n",
    "        \"\"\"\n",
    "        Initializes the KCNet.\n",
    "        \n",
    "        Args:\n",
    "            input_dim (int): Number of input features.\n",
    "            hidden_dim (int): Number of hidden neurons (KC nodes).\n",
    "            output_dim (int): Number of output classes.\n",
    "            connections_per_hidden (int): Non-zero connections per hidden node.\n",
    "        \"\"\"\n",
    "        super(KCNet, self).__init__()\n",
    "        self.projection_matrix = generate_sparse_projection(input_dim, hidden_dim, connections_per_hidden)\n",
    "        self.hidden_dim = hidden_dim\n",
    "        self.output_dim = output_dim\n",
    "        self.output_weights = None\n",
    "    \n",
    "    def forward(self, x):\n",
    "        \"\"\"\n",
    "        Forward pass through the KCNet.\n",
    "        \n",
    "        Args:\n",
    "            x (torch.Tensor): Input data.\n",
    "        \n",
    "        Returns:\n",
    "            torch.Tensor: Predicted output.\n",
    "        \"\"\"\n",
    "        return forward_pass(x, self.projection_matrix, self.output_weights)\n",
    "    \n",
    "    def train_output_layer(self, hidden_layer_outputs, targets, lambda_reg=0.01):\n",
    "        \"\"\"\n",
    "        Trains the output layer weights using ridge regression.\n",
    "        \n",
    "        Args:\n",
    "            hidden_layer_outputs (torch.Tensor): Hidden layer activations (H).\n",
    "            targets (torch.Tensor): Target outputs (Y).\n",
    "            lambda_reg (float): Regularization term.\n",
    "        \"\"\"\n",
    "        self.output_weights = ridge_regression(hidden_layer_outputs, targets, lambda_reg)\n",
    "\n"
   ]
  },
  {
   "cell_type": "markdown",
   "id": "8f6cc764-ab15-4dbb-b2fc-b858860cedd2",
   "metadata": {},
   "source": [
    "Testing on Random Dataset"
   ]
  },
  {
   "cell_type": "code",
   "execution_count": 245,
   "id": "b91a2298-f65a-4741-b78d-9625bf0e90bb",
   "metadata": {},
   "outputs": [
    {
     "name": "stdout",
     "output_type": "stream",
     "text": [
      "Accuracy: 91.00%\n",
      "Accuracy: 87.00%\n",
      "Accuracy: 92.00%\n",
      "Accuracy: 96.00%\n",
      "Accuracy: 89.00%\n",
      "Accuracy: 87.00%\n",
      "Accuracy: 91.00%\n",
      "Accuracy: 90.00%\n",
      "Accuracy: 86.00%\n",
      "Accuracy: 91.00%\n",
      "Average Accuracy: 0.9000 ± 0.0279\n"
     ]
    }
   ],
   "source": [
    "# Parameters\n",
    "input_dim = 50      # Example input features\n",
    "hidden_dim = 2000   # Kenyon cell count\n",
    "output_dim = 10     # Number of output classes\n",
    "connections_per_hidden = 7  # Sparse connections\n",
    "lambda_reg = 0.1    # Regularization strength\n",
    "\n",
    "n_runs = 10\n",
    "results = []\n",
    "for run in range(n_runs):\n",
    "    # Initialize KCNet\n",
    "    kcnet = KCNet(input_dim, hidden_dim, output_dim, connections_per_hidden)\n",
    "    \n",
    "    # Example data (random for illustration)\n",
    "    X = torch.rand(100, input_dim)  # 100 samples, 50 features\n",
    "    y = torch.randint(0, output_dim, (100,))  # Random targets\n",
    "    y_one_hot = torch.nn.functional.one_hot(y, num_classes=output_dim).float()\n",
    "    \n",
    "    # Step 1: Hidden layer activations\n",
    "    hidden_layer_outputs = torch.relu(X @ kcnet.projection_matrix.T)\n",
    "    \n",
    "    # Step 2: Train output layer\n",
    "    kcnet.train_output_layer(hidden_layer_outputs, y_one_hot, lambda_reg)\n",
    "    \n",
    "    # Step 3: Predictions\n",
    "    predictions = kcnet(X).argmax(dim=1)\n",
    "    \n",
    "    # Step 4: Evaluation\n",
    "    accuracy = accuracy_score(y.numpy(), predictions.numpy())\n",
    "    print(f\"Accuracy: {accuracy * 100:.2f}%\")\n",
    "    results.append(accuracy)\n",
    "\n",
    "# Calculate average and standard deviation\n",
    "average_result = np.mean(results)\n",
    "std_deviation = np.std(results)\n",
    "\n",
    "# Print results\n",
    "print(f\"Average Accuracy: {average_result:.4f} ± {std_deviation:.4f}\")\n"
   ]
  }
 ],
 "metadata": {
  "kernelspec": {
   "display_name": "Python 3 (ipykernel)",
   "language": "python",
   "name": "python3"
  },
  "language_info": {
   "codemirror_mode": {
    "name": "ipython",
    "version": 3
   },
   "file_extension": ".py",
   "mimetype": "text/x-python",
   "name": "python",
   "nbconvert_exporter": "python",
   "pygments_lexer": "ipython3",
   "version": "3.12.4"
  }
 },
 "nbformat": 4,
 "nbformat_minor": 5
}
